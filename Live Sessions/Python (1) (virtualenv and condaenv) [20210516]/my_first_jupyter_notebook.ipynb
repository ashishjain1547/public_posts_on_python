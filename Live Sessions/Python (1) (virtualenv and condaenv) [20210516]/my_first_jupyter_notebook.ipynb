{
 "cells": [
  {
   "cell_type": "code",
   "execution_count": 1,
   "id": "38fd0d68",
   "metadata": {},
   "outputs": [
    {
     "name": "stdout",
     "output_type": "stream",
     "text": [
      "10\n",
      "\n",
      "2.3333333333333335\n",
      "\n",
      "2\n",
      "\n",
      "1\n",
      "\n",
      "Ashish\n",
      "\n",
      "Logged in as: Ashish\n"
     ]
    }
   ],
   "source": [
    "print(7 + 3, end='\\n\\n')\n",
    "\n",
    "print(7 / 3, end='\\n\\n')\n",
    "\n",
    "print(7 // 3, end='\\n\\n')\n",
    "\n",
    "print(7 % 3, end='\\n\\n')\n",
    "\n",
    "username = \"Ashish\"\n",
    "\n",
    "print(username, end='\\n\\n')\n",
    "\n",
    "print(F\"Logged in as: {username}\")"
   ]
  },
  {
   "cell_type": "code",
   "execution_count": 2,
   "id": "fab2c9c1",
   "metadata": {},
   "outputs": [
    {
     "data": {
      "text/plain": [
       "'Ashish'"
      ]
     },
     "execution_count": 2,
     "metadata": {},
     "output_type": "execute_result"
    }
   ],
   "source": [
    "username"
   ]
  },
  {
   "cell_type": "code",
   "execution_count": 4,
   "id": "362d7a93",
   "metadata": {},
   "outputs": [
    {
     "name": "stdout",
     "output_type": "stream",
     "text": [
      "Ashish\n"
     ]
    }
   ],
   "source": [
    "print(username)"
   ]
  },
  {
   "cell_type": "code",
   "execution_count": null,
   "id": "6e8372e5",
   "metadata": {},
   "outputs": [],
   "source": []
  }
 ],
 "metadata": {
  "kernelspec": {
   "display_name": "Python 3",
   "language": "python",
   "name": "python3"
  },
  "language_info": {
   "codemirror_mode": {
    "name": "ipython",
    "version": 3
   },
   "file_extension": ".py",
   "mimetype": "text/x-python",
   "name": "python",
   "nbconvert_exporter": "python",
   "pygments_lexer": "ipython3",
   "version": "3.7.1"
  }
 },
 "nbformat": 4,
 "nbformat_minor": 5
}
