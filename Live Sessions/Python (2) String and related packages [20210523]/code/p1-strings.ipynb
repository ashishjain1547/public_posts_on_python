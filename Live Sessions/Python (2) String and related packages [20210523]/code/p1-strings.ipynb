{
 "cells": [
  {
   "cell_type": "code",
   "execution_count": 16,
   "id": "047ebabe-4e9d-45b5-8b27-ebe596e41ca9",
   "metadata": {},
   "outputs": [],
   "source": [
    "str_1 = \"Hi, I am Ashish!\""
   ]
  },
  {
   "cell_type": "code",
   "execution_count": 17,
   "id": "f9e57c8d-c5ac-4e7f-9760-94e76993aaed",
   "metadata": {},
   "outputs": [
    {
     "data": {
      "text/plain": [
       "'I'"
      ]
     },
     "execution_count": 17,
     "metadata": {},
     "output_type": "execute_result"
    }
   ],
   "source": [
    "# Picking the fifth character\n",
    "str_1[4]"
   ]
  },
  {
   "cell_type": "code",
   "execution_count": 18,
   "id": "2ba396bc-c75f-43f8-ba9e-5c24680445cb",
   "metadata": {},
   "outputs": [
    {
     "data": {
      "text/plain": [
       "'I am A'"
      ]
     },
     "execution_count": 18,
     "metadata": {},
     "output_type": "execute_result"
    }
   ],
   "source": [
    "# Picking characters from fifth to tenth\n",
    "str_1[4:10]"
   ]
  },
  {
   "cell_type": "code",
   "execution_count": 19,
   "id": "d02142f0-6efd-4c07-a0da-30612a04ad52",
   "metadata": {},
   "outputs": [
    {
     "name": "stdout",
     "output_type": "stream",
     "text": [
      "16\n",
      "6\n"
     ]
    }
   ],
   "source": [
    "# Print the length of the string\n",
    "print(len(str_1))\n",
    "print(len(str_1[4:10]))"
   ]
  },
  {
   "cell_type": "code",
   "execution_count": 20,
   "id": "da14b879-416f-4b5e-acc0-11566467ab9a",
   "metadata": {},
   "outputs": [
    {
     "data": {
      "text/plain": [
       "'H,Ia sih'"
      ]
     },
     "execution_count": 20,
     "metadata": {},
     "output_type": "execute_result"
    }
   ],
   "source": [
    "# Print every second character in the string\n",
    "str_1[0::2]"
   ]
  },
  {
   "cell_type": "code",
   "execution_count": 28,
   "id": "6075b8ea-0d86-407d-b414-8fceec4298d6",
   "metadata": {},
   "outputs": [
    {
     "name": "stdout",
     "output_type": "stream",
     "text": [
      "!\n",
      "h\n",
      "hish\n",
      "hish!\n",
      "When you are giving a range for indexing to a string, the first number should be smaller than the second, or nothing comes out:\n",
      "str_1[-1 : -5]:   <-\n"
     ]
    }
   ],
   "source": [
    "# Negative number for indexing \n",
    "print(str_1[-1])\n",
    "print(str_1[-2])\n",
    "print(str_1[-5 : -1])\n",
    "print(str_1[-5 :])"
   ]
  },
  {
   "cell_type": "code",
   "execution_count": null,
   "id": "0c699be5-af8f-4838-912f-6390923fde80",
   "metadata": {},
   "outputs": [],
   "source": [
    "print(\"When you are giving a range for indexing to a string, the first number should be smaller than the second, or nothing comes out:\")\n",
    "print(\"str_1[-1 : -5]: \", str_1[-1 : -5], \"<-\")"
   ]
  },
  {
   "cell_type": "code",
   "execution_count": 2,
   "id": "d86dda94-acbe-4b25-a3ea-584114e8bf3c",
   "metadata": {},
   "outputs": [
    {
     "name": "stdout",
     "output_type": "stream",
     "text": [
      "\\temp\\spam\n",
      "b'sp\\xc4m'\n",
      "spÄm\n",
      "a kind parrot\n",
      "Found 'pa' at: 2\n",
      "!   okay!\n",
      "!okay!\n",
      "!okay okay!\n",
      "xxrrot\n",
      "parrot\n",
      "PARROT\n",
      "True\n",
      "True\n"
     ]
    }
   ],
   "source": [
    "# Raw string\n",
    "S = r'\\temp\\spam'\n",
    "print(S)\n",
    "\n",
    "B = b'sp\\xc4m'\n",
    "print(B) # b'sp\\xc4m'\n",
    "#print(B.decode()) # UnicodeDecodeError: 'utf-8' codec can't decode byte 0xc4 in position 2: invalid continuation byte\n",
    "#print(B.decode(encoding='unicode')) # LookupError: unknown encoding: unicode\n",
    "#print(B.decode(encoding='utf8')) # UnicodeDecodeError: 'utf-8' codec can't decode byte 0xc4 in position 2: invalid continuation byte\n",
    "\n",
    "U = u'sp\\u00c4m'\n",
    "print(U) # spÄm\n",
    "#print(U.decode()) # AttributeError: 'str' object has no attribute 'decode'\n",
    "\n",
    "print(\"a %s parrot\" % 'kind') # a kind parrot\n",
    "\n",
    "print(\"Found 'pa' at:\", 'a parrot'.find('pa')) # 2\n",
    "\n",
    "print(\"!\" + \"   okay   \".rstrip() + \"!\") # !   okay!\n",
    "print(\"!\" + \"   okay   \".strip() + \"!\") # !okay!\n",
    "print(\"!\" + \"   okay okay  \".strip() + \"!\") # !okay okay!\n",
    "\n",
    "print(\"parrot\".replace('pa', 'xx')) # xxrrot\n",
    "\n",
    "print(\"Parrot\".lower()) # parrot\n",
    "print(\"parrot\".upper()) # PARROT\n",
    "print(\"my parrot is yours\".endswith(\"yours\")) # True\n",
    "print(\"my parrot\".startswith(\"my\")) # True"
   ]
  },
  {
   "cell_type": "code",
   "execution_count": 32,
   "id": "ca480621-452a-4c10-91c1-0a9b58cba559",
   "metadata": {},
   "outputs": [
    {
     "name": "stdout",
     "output_type": "stream",
     "text": [
      "--> \n",
      "--> \n",
      "\n",
      "--> !hsihsA ma I ,i\n",
      "--> !hsihsA ma I ,i\n",
      "\n",
      "--> !hsihsA ma I ,iH\n",
      "--> !hsihsA ma I ,iH\n",
      "\n",
      "--> !hsihsA ma I ,iH\n",
      "--> Hi, I am Ashish!\n",
      "\n"
     ]
    },
    {
     "ename": "IndexError",
     "evalue": "string index out of range",
     "output_type": "error",
     "traceback": [
      "\u001b[1;31m---------------------------------------------------------------------------\u001b[0m",
      "\u001b[1;31mIndexError\u001b[0m                                Traceback (most recent call last)",
      "\u001b[1;32m<ipython-input-32-ae4c8bcbdc17>\u001b[0m in \u001b[0;36m<module>\u001b[1;34m\u001b[0m\n\u001b[0;32m     13\u001b[0m \u001b[0mprint\u001b[0m\u001b[1;33m(\u001b[0m\u001b[1;34m\"-->\"\u001b[0m\u001b[1;33m,\u001b[0m \u001b[0mstr_1\u001b[0m\u001b[1;33m[\u001b[0m\u001b[1;36m0\u001b[0m \u001b[1;33m:\u001b[0m \u001b[0mlen\u001b[0m\u001b[1;33m(\u001b[0m\u001b[0mstr_1\u001b[0m\u001b[1;33m)\u001b[0m\u001b[1;33m+\u001b[0m\u001b[1;36m1\u001b[0m\u001b[1;33m]\u001b[0m\u001b[1;33m)\u001b[0m\u001b[1;33m\u001b[0m\u001b[1;33m\u001b[0m\u001b[0m\n\u001b[0;32m     14\u001b[0m \u001b[0mprint\u001b[0m\u001b[1;33m(\u001b[0m\u001b[1;33m)\u001b[0m\u001b[1;33m\u001b[0m\u001b[1;33m\u001b[0m\u001b[0m\n\u001b[1;32m---> 15\u001b[1;33m \u001b[0mprint\u001b[0m\u001b[1;33m(\u001b[0m\u001b[1;34m\"-->\"\u001b[0m\u001b[1;33m,\u001b[0m \u001b[0mstr_1\u001b[0m\u001b[1;33m[\u001b[0m\u001b[0mlen\u001b[0m\u001b[1;33m(\u001b[0m\u001b[0mstr_1\u001b[0m\u001b[1;33m)\u001b[0m\u001b[1;33m+\u001b[0m\u001b[1;36m1\u001b[0m\u001b[1;33m]\u001b[0m\u001b[1;33m)\u001b[0m\u001b[1;33m\u001b[0m\u001b[1;33m\u001b[0m\u001b[0m\n\u001b[0m",
      "\u001b[1;31mIndexError\u001b[0m: string index out of range"
     ]
    }
   ],
   "source": [
    "# Reverse a string\n",
    "print(\"-->\", str_1[len(str_1) : 0])\n",
    "print(\"-->\", str_1[6 : 0])\n",
    "print()\n",
    "\"\"\"Here it skips the first character because that's how indexing works. It excludes the last indexing number specified.\"\"\"\n",
    "print(\"-->\", str_1[len(str_1) : 0 : -1]) \n",
    "print(\"-->\", str_1[len(str_1) : 0 : -1])\n",
    "print()\n",
    "print(\"-->\", str_1[len(str_1) : : -1])\n",
    "print(\"-->\", str_1[ : : -1])\n",
    "print()\n",
    "print(\"-->\", str_1[len(str_1)+1 : : -1])\n",
    "print(\"-->\", str_1[0 : len(str_1)+1])\n",
    "print()\n",
    "print(\"-->\", str_1[len(str_1)+1])"
   ]
  },
  {
   "cell_type": "code",
   "execution_count": 37,
   "id": "4de367a9-b25f-4230-8824-1aae24f6c396",
   "metadata": {},
   "outputs": [
    {
     "name": "stdout",
     "output_type": "stream",
     "text": [
      "True\n",
      "False\n"
     ]
    }
   ],
   "source": [
    "# Check if a string is a palindrome\n",
    "\n",
    "str_2 = \"mom\"\n",
    "print(str_2 == str_2[::-1])\n",
    "print(str_1 == str_1[::-1])"
   ]
  },
  {
   "cell_type": "code",
   "execution_count": 50,
   "id": "85f8c8f4-fc0f-4ba3-88c3-75eda81e9828",
   "metadata": {},
   "outputs": [
    {
     "name": "stdout",
     "output_type": "stream",
     "text": [
      "v1 == v2: True\n",
      "v1 == v3: True\n",
      "v1 is v2: True\n",
      "v1 is v3: True\n",
      "id(v1) 2053130113968\n",
      "id(v3) 2053130113968\n"
     ]
    }
   ],
   "source": [
    "# Check if two string variables are actually same.\n",
    "\n",
    "v1 = str_2\n",
    "v2 = str_2\n",
    "v3 = 'mom'\n",
    "\n",
    "print(\"v1 == v2:\", v1 == v2)\n",
    "print(\"v1 == v3:\", v1 == v3)\n",
    "print(\"v1 is v2:\", v1 is v2)\n",
    "print(\"v1 is v3:\", v1 is v3)\n",
    "print(\"id(v1)\", id(v1))\n",
    "print(\"id(v3)\", id(v3))"
   ]
  },
  {
   "cell_type": "code",
   "execution_count": null,
   "id": "200e44c1-5cad-4b5e-af72-b78be4f05cf2",
   "metadata": {},
   "outputs": [],
   "source": []
  },
  {
   "cell_type": "raw",
   "id": "1065efb6-74b8-4924-b973-5ec2d33dfb1f",
   "metadata": {},
   "source": [
    "1. How would you confirm that 2 strings have the same identity?\n",
    "The is operator returns True if 2 names point to the same location in memory. This is what we’re referring to when we talk about identity.\n",
    "Don’t confuse is with ==, the latter which only tests equality.\n",
    "animals           = ['python','gopher']\n",
    "more_animals      = animals\n",
    "print(animals == more_animals) #=> True\n",
    "print(animals is more_animals) #=> True\n",
    "even_more_animals = ['python','gopher']\n",
    "print(animals == even_more_animals) #=> True\n",
    "print(animals is even_more_animals) #=> False\n",
    "Notice above how animals and even_more_animals have a different identity even though they are equal.\n",
    "Additionally, the id() function returns the id of a memory address associated with a name. Two objects with the same identity will return the same id.\n",
    "name = 'object'\n",
    "id(name)\n",
    "#=> 4408718312"
   ]
  },
  {
   "cell_type": "code",
   "execution_count": 56,
   "id": "bce00489-18b3-40fb-84b9-b20634801be3",
   "metadata": {},
   "outputs": [
    {
     "name": "stdout",
     "output_type": "stream",
     "text": [
      "animals == more_animals: True\n",
      "animals is more_animals: True\n",
      "animals == even_more_animals: True\n",
      "animals is even_more_animals: False\n",
      "\n",
      "Memory addresses:\n",
      "id(animals) 2053130940992\n",
      "id(more_animals) 2053130940992\n",
      "id(even_more_animals) 2053130060928\n"
     ]
    }
   ],
   "source": [
    "animals           = ['python','gopher']\n",
    "more_animals      = animals\n",
    "print(\"animals == more_animals:\", animals == more_animals) #=> True\n",
    "print(\"animals is more_animals:\", animals is more_animals) #=> True\n",
    "even_more_animals = ['python','gopher']\n",
    "print(\"animals == even_more_animals:\", animals == even_more_animals) #=> True\n",
    "print(\"animals is even_more_animals:\", animals is even_more_animals) #=> False\n",
    "\n",
    "print(\"\\nMemory addresses:\")\n",
    "print(\"id(animals)\", id(animals))\n",
    "print(\"id(more_animals)\", id(more_animals))\n",
    "print(\"id(even_more_animals)\", id(even_more_animals))"
   ]
  },
  {
   "cell_type": "code",
   "execution_count": 3,
   "id": "5d320d52-c798-4b41-ac51-4283b4af1e1b",
   "metadata": {},
   "outputs": [
    {
     "name": "stdout",
     "output_type": "stream",
     "text": [
      "owner: Ashish\n",
      "id(owner):  1622601510960\n",
      "id(pets):  1622601567616\n",
      "owner: Xshish\n",
      "id(owner):  1622601305712\n",
      "id(pets):  1622601567616\n",
      "owner: Ashish\n",
      "id(owner):  1622601238000\n",
      "id(pets):  1622601567616\n",
      "Trivial replacement:\n",
      "owner: Ashish\n",
      "id(owner):  1622601238000\n",
      "Now the question is: did it actually perform the trivial replace operation in this case or not?\n"
     ]
    }
   ],
   "source": [
    "owner = 'Ashish'\n",
    "pets = ['python', 'gopher']\n",
    "\n",
    "print(\"owner:\", owner)\n",
    "print(\"id(owner): \", id(owner))\n",
    "print(\"id(pets): \", id(pets))\n",
    "\n",
    "owner = owner.replace('A', 'X')\n",
    "\n",
    "# Note: we don't have a \"replace()\" method for Python lists.\n",
    "pets[0] = 'cat'\n",
    "\n",
    "print(\"owner:\", owner)\n",
    "print(\"id(owner): \", id(owner))\n",
    "print(\"id(pets): \", id(pets))\n",
    "\n",
    "owner = owner.replace('X', 'A')\n",
    "pets[0] = 'python'\n",
    "\n",
    "print(\"owner:\", owner)\n",
    "print(\"id(owner): \", id(owner))\n",
    "print(\"id(pets): \", id(pets))\n",
    "\n",
    "print(\"Trivial replacement:\")\n",
    "owner = owner.replace('A', 'A')\n",
    "print(\"owner:\", owner)\n",
    "print(\"id(owner): \", id(owner))\n",
    "print(\"Now the question is: did it actually perform the trivial replace operation in this case or not?\")"
   ]
  },
  {
   "cell_type": "markdown",
   "id": "c13c4ef3-9284-4e9e-b6bd-29c0fd4c5ef1",
   "metadata": {},
   "source": [
    "<h1>Creating Replace For List</h1>"
   ]
  },
  {
   "cell_type": "code",
   "execution_count": 14,
   "id": "c60514e0-f822-4751-8e0b-63fd2b0e5cbc",
   "metadata": {},
   "outputs": [
    {
     "name": "stdout",
     "output_type": "stream",
     "text": [
      "['I', 'like', 'broccoli']\n"
     ]
    }
   ],
   "source": [
    "# https://stackoverflow.com/questions/43107251/is-there-a-method-like-replace-for-list-in-python\n",
    "# a loop to do the replacement in-place\n",
    "words = ['I', 'like', 'chicken']\n",
    "for i, word in enumerate(words):\n",
    "    if word == 'chicken':\n",
    "        words[i] = 'broccoli'\n",
    "print(words)"
   ]
  },
  {
   "cell_type": "code",
   "execution_count": 9,
   "id": "4300f421-a4c3-4525-8a15-be302e657fe0",
   "metadata": {},
   "outputs": [
    {
     "name": "stdout",
     "output_type": "stream",
     "text": [
      "['I', 'like', 'broccoli']\n"
     ]
    }
   ],
   "source": [
    "# a shorter option if there’s always exactly one instance:\n",
    "words = ['I', 'like', 'chicken']\n",
    "words[words.index('chicken')] = 'broccoli'\n",
    "print(words)"
   ]
  },
  {
   "cell_type": "code",
   "execution_count": 11,
   "id": "7a818b42-e179-418e-b158-21c3c87acdc1",
   "metadata": {},
   "outputs": [
    {
     "name": "stdout",
     "output_type": "stream",
     "text": [
      "['I', 'like', 'broccoli']\n"
     ]
    }
   ],
   "source": [
    "# a list comprehension to create a new list:\n",
    "words = ['I', 'like', 'chicken']\n",
    "new_words = ['broccoli' if word == 'chicken' else word for word in words]\n",
    "print(new_words)"
   ]
  },
  {
   "cell_type": "code",
   "execution_count": 13,
   "id": "2ecc317d-c095-472a-a495-5259704da008",
   "metadata": {},
   "outputs": [
    {
     "name": "stdout",
     "output_type": "stream",
     "text": [
      "['I', 'like', 'broccoli']\n"
     ]
    }
   ],
   "source": [
    "# any of which can be wrapped up in a function:\n",
    "words = ['I', 'like', 'chicken']\n",
    "def replaced(sequence, old, new):\n",
    "    return (new if x == old else x for x in sequence)\n",
    "\n",
    "new_words = list(replaced(words, 'chicken', 'broccoli'))\n",
    "print(new_words)"
   ]
  },
  {
   "cell_type": "code",
   "execution_count": null,
   "id": "78400857-b7e5-4503-9b90-c87183d70c8b",
   "metadata": {},
   "outputs": [],
   "source": []
  }
 ],
 "metadata": {
  "kernelspec": {
   "display_name": "Python 3",
   "language": "python",
   "name": "python3"
  },
  "language_info": {
   "codemirror_mode": {
    "name": "ipython",
    "version": 3
   },
   "file_extension": ".py",
   "mimetype": "text/x-python",
   "name": "python",
   "nbconvert_exporter": "python",
   "pygments_lexer": "ipython3",
   "version": "3.9.4"
  }
 },
 "nbformat": 4,
 "nbformat_minor": 5
}
