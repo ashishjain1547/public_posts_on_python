{
 "cells": [
  {
   "cell_type": "code",
   "execution_count": 2,
   "id": "693aa35a-03eb-41de-aa9e-31c25016350c",
   "metadata": {},
   "outputs": [
    {
     "name": "stdout",
     "output_type": "stream",
     "text": [
      "['ai', 'ai']\n"
     ]
    }
   ],
   "source": [
    "import re\n",
    "\n",
    "#Return a list containing every occurrence of \"ai\":\n",
    "\n",
    "txt = \"The rain in Spain\"\n",
    "x = re.findall(\"ai\", txt)\n",
    "print(x)"
   ]
  },
  {
   "cell_type": "code",
   "execution_count": 23,
   "id": "561b5444-186f-42ca-9c2c-1396b39c8da1",
   "metadata": {},
   "outputs": [
    {
     "name": "stdout",
     "output_type": "stream",
     "text": [
      "['ai', 'ai', 'ai']\n"
     ]
    }
   ],
   "source": [
    "txt = \"The rain in Spain detected by Mr Jain.\"\n",
    "x = re.findall(\"ai\", txt)\n",
    "print(x)"
   ]
  },
  {
   "cell_type": "code",
   "execution_count": 3,
   "id": "07936457-bb62-41b2-ae8d-2787254b0062",
   "metadata": {},
   "outputs": [
    {
     "name": "stdout",
     "output_type": "stream",
     "text": [
      "['ra', 'r ']\n"
     ]
    }
   ],
   "source": [
    "txt = \"The rain in Spain detected by Mr Jain.\"\n",
    "x = re.findall(\"r.?\", txt)\n",
    "print(x)"
   ]
  },
  {
   "cell_type": "code",
   "execution_count": 4,
   "id": "2fdf2d16-de45-47eb-9813-ee840c220e10",
   "metadata": {},
   "outputs": [
    {
     "name": "stdout",
     "output_type": "stream",
     "text": [
      "['ra', 'r']\n"
     ]
    }
   ],
   "source": [
    "txt = \"The rain in Spain detected by Mr Jain.\"\n",
    "x = re.findall(\"r\\w?\", txt)\n",
    "print(x)"
   ]
  },
  {
   "cell_type": "code",
   "execution_count": 6,
   "id": "639ddb51-e0fe-48ef-b30f-d08a448634f5",
   "metadata": {},
   "outputs": [
    {
     "name": "stdout",
     "output_type": "stream",
     "text": [
      "The first white-space character is located in position: 3\n"
     ]
    }
   ],
   "source": [
    "import re\n",
    "\n",
    "txt = \"The rain in Spain\"\n",
    "x = re.search(\"\\s\", txt)\n",
    "\n",
    "print(\"The first white-space character is located in position:\", x.start()) "
   ]
  },
  {
   "cell_type": "code",
   "execution_count": 24,
   "id": "509336f3-b67e-4975-90f3-771bfe6a320b",
   "metadata": {},
   "outputs": [
    {
     "name": "stdout",
     "output_type": "stream",
     "text": [
      "<re.Match object; span=(3, 4), match=' '>\n"
     ]
    }
   ],
   "source": [
    "txt = \"The rain in Spain\"\n",
    "x = re.search(\"\\s\", txt)\n",
    "\n",
    "print(x) "
   ]
  },
  {
   "cell_type": "code",
   "execution_count": 7,
   "id": "e2864c2e-847c-47c8-a9bd-33bbd37bad86",
   "metadata": {},
   "outputs": [
    {
     "name": "stdout",
     "output_type": "stream",
     "text": [
      "['The', 'rain', 'in', 'Spain']\n"
     ]
    }
   ],
   "source": [
    "import re\n",
    "\n",
    "txt = \"The rain in Spain\"\n",
    "x = re.split(\"\\s\", txt)\n",
    "print(x)"
   ]
  },
  {
   "cell_type": "code",
   "execution_count": 9,
   "id": "f666a807-ccfd-4911-be5c-76012231d490",
   "metadata": {},
   "outputs": [
    {
     "name": "stdout",
     "output_type": "stream",
     "text": [
      "['The', 'rain in Spain']\n",
      "['The', 'rain', 'in Spain']\n"
     ]
    }
   ],
   "source": [
    "import re\n",
    "\n",
    "txt = \"The rain in Spain\"\n",
    "x = re.split(\"\\s\", txt, maxsplit = 1)\n",
    "print(x)\n",
    "x = re.split(\"\\s\", txt, maxsplit = 2)\n",
    "print(x)"
   ]
  },
  {
   "cell_type": "code",
   "execution_count": 10,
   "id": "dc094f5b-684e-4f04-bc31-eeb9e78bd362",
   "metadata": {},
   "outputs": [
    {
     "name": "stdout",
     "output_type": "stream",
     "text": [
      "The9rain9in9Spain\n"
     ]
    }
   ],
   "source": [
    "import re\n",
    "\n",
    "txt = \"The rain in Spain\"\n",
    "x = re.sub(\"\\s\", \"9\", txt)\n",
    "print(x)"
   ]
  },
  {
   "cell_type": "code",
   "execution_count": 12,
   "id": "4c3f631a-4b9e-43dc-8571-bd93dd14381c",
   "metadata": {},
   "outputs": [
    {
     "name": "stdout",
     "output_type": "stream",
     "text": [
      "The9rain in Spain\n",
      "The9rain9in Spain\n"
     ]
    }
   ],
   "source": [
    "txt = \"The rain in Spain\"\n",
    "x = re.sub(\"\\s\", \"9\", txt, count = 1)\n",
    "print(x)\n",
    "x = re.sub(\"\\s\", \"9\", txt, count = 2)\n",
    "print(x)"
   ]
  },
  {
   "cell_type": "code",
   "execution_count": 13,
   "id": "34f9ee2a-28d4-46ef-816c-319bbe3fee62",
   "metadata": {},
   "outputs": [
    {
     "name": "stdout",
     "output_type": "stream",
     "text": [
      "<re.Match object; span=(5, 7), match='ai'>\n"
     ]
    }
   ],
   "source": [
    "txt = \"The rain in Spain\"\n",
    "x = re.search(\"ai\", txt)\n",
    "print(x) #this will print an object"
   ]
  },
  {
   "cell_type": "code",
   "execution_count": 14,
   "id": "0adf81dd-4726-4597-a589-3899fe1ed99f",
   "metadata": {},
   "outputs": [
    {
     "data": {
      "text/plain": [
       "['__repr__',\n",
       " '__getitem__',\n",
       " 'group',\n",
       " 'start',\n",
       " 'end',\n",
       " 'span',\n",
       " 'groups',\n",
       " 'groupdict',\n",
       " 'expand',\n",
       " '__copy__',\n",
       " '__deepcopy__',\n",
       " '__class_getitem__',\n",
       " 'string',\n",
       " 're',\n",
       " 'pos',\n",
       " 'endpos',\n",
       " 'lastindex',\n",
       " 'lastgroup',\n",
       " 'regs',\n",
       " '__doc__',\n",
       " '__hash__',\n",
       " '__str__',\n",
       " '__getattribute__',\n",
       " '__setattr__',\n",
       " '__delattr__',\n",
       " '__lt__',\n",
       " '__le__',\n",
       " '__eq__',\n",
       " '__ne__',\n",
       " '__gt__',\n",
       " '__ge__',\n",
       " '__init__',\n",
       " '__new__',\n",
       " '__reduce_ex__',\n",
       " '__reduce__',\n",
       " '__subclasshook__',\n",
       " '__init_subclass__',\n",
       " '__format__',\n",
       " '__sizeof__',\n",
       " '__dir__',\n",
       " '__class__']"
      ]
     },
     "execution_count": 14,
     "metadata": {},
     "output_type": "execute_result"
    }
   ],
   "source": [
    "x.__dir__()"
   ]
  },
  {
   "cell_type": "code",
   "execution_count": 25,
   "id": "f19cfb47-e62c-4bb9-bd3f-162a499702be",
   "metadata": {},
   "outputs": [
    {
     "name": "stdout",
     "output_type": "stream",
     "text": [
      "<re.Match object; span=(12, 17), match='Spain'>\n",
      "span: (12, 17)\n",
      "string: The rain in Spain\n",
      "group: Spain\n",
      "start: 12\n"
     ]
    }
   ],
   "source": [
    "txt = \"The rain in Spain\"\n",
    "x = re.search(r\"\\bS\\w+\", txt)\n",
    "print(x)\n",
    "print(\"span:\", x.span())\n",
    "print(\"string:\", x.string)\n",
    "print(\"group:\", x.group())\n",
    "print(\"start:\", x.start())"
   ]
  },
  {
   "cell_type": "code",
   "execution_count": 5,
   "id": "ff2af00e-ee99-45e5-b925-c08053c61670",
   "metadata": {},
   "outputs": [
    {
     "name": "stdout",
     "output_type": "stream",
     "text": [
      "<re.Match object; span=(28, 33), match='Spain'>\n",
      "span: (28, 33)\n",
      "string: Mr Jain enjoyed the rain in Spain.\n",
      "group: Spain\n",
      "start: 28\n",
      "end: 33\n"
     ]
    }
   ],
   "source": [
    "txt = \"Mr Jain enjoyed the rain in Spain.\"\n",
    "x = re.search(r\"\\bS\\w+\", txt)\n",
    "print(x)\n",
    "print(\"span:\", x.span())\n",
    "print(\"string:\", x.string)\n",
    "print(\"group:\", x.group())\n",
    "print(\"start:\", x.start())\n",
    "print(\"end:\", x.end())"
   ]
  },
  {
   "cell_type": "code",
   "execution_count": null,
   "id": "c8e635ca-560b-461c-b8cc-8a9b903ec332",
   "metadata": {},
   "outputs": [],
   "source": []
  }
 ],
 "metadata": {
  "kernelspec": {
   "display_name": "Python 3",
   "language": "python",
   "name": "python3"
  },
  "language_info": {
   "codemirror_mode": {
    "name": "ipython",
    "version": 3
   },
   "file_extension": ".py",
   "mimetype": "text/x-python",
   "name": "python",
   "nbconvert_exporter": "python",
   "pygments_lexer": "ipython3",
   "version": "3.7.1"
  }
 },
 "nbformat": 4,
 "nbformat_minor": 5
}
